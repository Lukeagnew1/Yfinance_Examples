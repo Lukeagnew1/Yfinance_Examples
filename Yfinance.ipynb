{
 "cells": [
  {
   "cell_type": "code",
   "execution_count": null,
   "id": "465e2fd6-404e-4f8e-839f-650e69214b47",
   "metadata": {},
   "outputs": [],
   "source": [
    "import pandas as pd\n",
    "import numpy as np\n",
    "import seaborn as sns \n",
    "import yfinance as yf\n",
    "import matplotlib.pyplot as plt \n",
    "%matplotlib inline"
   ]
  },
  {
   "cell_type": "code",
   "execution_count": null,
   "id": "e74aa06c-9c53-4606-9cb6-b8e7c1acccc0",
   "metadata": {},
   "outputs": [],
   "source": [
    "AAPL = yf.Ticker('AAPL')"
   ]
  },
  {
   "cell_type": "code",
   "execution_count": null,
   "id": "6131f2a9-3f91-4092-aa42-e54f066faff5",
   "metadata": {},
   "outputs": [],
   "source": [
    "AAPL.info"
   ]
  },
  {
   "cell_type": "code",
   "execution_count": null,
   "id": "a32387ef-348d-4e41-bc4d-fc7067c5eae9",
   "metadata": {},
   "outputs": [],
   "source": [
    "hist = AAPL.history(period='max')"
   ]
  },
  {
   "cell_type": "code",
   "execution_count": null,
   "id": "969a8b75-1dab-40a4-8341-53ed08915ff7",
   "metadata": {},
   "outputs": [],
   "source": [
    "hist"
   ]
  },
  {
   "cell_type": "code",
   "execution_count": null,
   "id": "df0456bd-6c94-4ba1-995f-abe6a0bb8f31",
   "metadata": {},
   "outputs": [],
   "source": [
    "#Actions are dividends or stock splits\n",
    "\n",
    "AAPL.actions"
   ]
  },
  {
   "cell_type": "code",
   "execution_count": null,
   "id": "8a9c9383-c63d-4b84-b1d6-4334559d1085",
   "metadata": {},
   "outputs": [],
   "source": [
    "#Just dividends\n",
    "\n",
    "AAPL.dividends"
   ]
  },
  {
   "cell_type": "code",
   "execution_count": null,
   "id": "14de5127-841a-4529-a63a-7af170633aa2",
   "metadata": {},
   "outputs": [],
   "source": [
    "#Just stock splits\n",
    "\n",
    "AAPL.splits"
   ]
  },
  {
   "cell_type": "code",
   "execution_count": null,
   "id": "878fc0de-b5dd-41f5-b064-476469e6ee2e",
   "metadata": {},
   "outputs": [],
   "source": [
    "#Pull up the companies financials, you can also use quarterly_financials to pull up financials by quarter \n",
    "\n",
    "AAPL.financials"
   ]
  },
  {
   "cell_type": "code",
   "execution_count": null,
   "id": "ac8f63fa-b221-40c6-9a2d-134ba9f2f91a",
   "metadata": {},
   "outputs": [],
   "source": [
    "#All information regarding shareholders\n",
    "\n",
    "AAPL.major_holders"
   ]
  },
  {
   "cell_type": "code",
   "execution_count": null,
   "id": "500e4ff1-f856-4268-9dd5-8b344d91841e",
   "metadata": {},
   "outputs": [],
   "source": [
    "#Shows all institutional ownership of given ticker \n",
    "\n",
    "AAPL.institutional_holders"
   ]
  },
  {
   "cell_type": "code",
   "execution_count": null,
   "id": "d6beabc8-d2ea-4d4b-9329-fb5475cf6cb4",
   "metadata": {},
   "outputs": [],
   "source": [
    "#Balance sheet\n",
    "\n",
    "AAPL.balance_sheet"
   ]
  },
  {
   "cell_type": "code",
   "execution_count": null,
   "id": "2989d71e-505b-41b3-853b-d76c04992d91",
   "metadata": {},
   "outputs": [],
   "source": [
    "#Cashflow \n",
    "\n",
    "AAPL.cashflow"
   ]
  },
  {
   "cell_type": "code",
   "execution_count": null,
   "id": "859a362a-ee3f-4f4d-958c-8f8f48623654",
   "metadata": {},
   "outputs": [],
   "source": [
    "#Earnings \n",
    "\n",
    "AAPL.earnings"
   ]
  },
  {
   "cell_type": "code",
   "execution_count": null,
   "id": "3d8a5254-1c25-4ab9-9e3d-af1aa9bde646",
   "metadata": {},
   "outputs": [],
   "source": [
    "#Sustainability \n",
    "\n",
    "AAPL.sustainability"
   ]
  },
  {
   "cell_type": "code",
   "execution_count": null,
   "id": "4837865c-1572-481c-9531-5a42a57f2dbc",
   "metadata": {},
   "outputs": [],
   "source": [
    "#Recommendations \n",
    "\n",
    "AAPL.recommendations"
   ]
  },
  {
   "cell_type": "code",
   "execution_count": null,
   "id": "68626dc4-d94b-4547-8efc-91d8b4268cba",
   "metadata": {},
   "outputs": [],
   "source": [
    "#Pull up the cumlative ratings for AAPL\n",
    "\n",
    "AAPL.recommendations['To Grade'].value_counts()"
   ]
  },
  {
   "cell_type": "code",
   "execution_count": null,
   "id": "456f38d9-58e9-4bfe-a5ed-d1c210f4b0a2",
   "metadata": {},
   "outputs": [],
   "source": [
    "#Calendar \n",
    "\n",
    "AAPL.calendar"
   ]
  },
  {
   "cell_type": "code",
   "execution_count": null,
   "id": "ff0acd38-204e-4f4f-b1c7-cb70d18aeff9",
   "metadata": {},
   "outputs": [],
   "source": [
    "#International Secuirities Indentification code \n",
    "\n",
    "AAPL.isin"
   ]
  },
  {
   "cell_type": "code",
   "execution_count": null,
   "id": "3924976f-8d72-41cf-a3b4-b2def779d35f",
   "metadata": {},
   "outputs": [],
   "source": [
    "#Options Chain Expirations \n",
    "\n",
    "AAPL.options"
   ]
  },
  {
   "cell_type": "code",
   "execution_count": null,
   "id": "e8681b01-c1af-4534-a506-5ccd67fef596",
   "metadata": {},
   "outputs": [],
   "source": [
    "#Plot each of the tickers data fields in seperate graphs \n",
    "\n",
    "hist.plot(kind='line', figsize=(12, 12), subplots=True)"
   ]
  },
  {
   "cell_type": "code",
   "execution_count": null,
   "id": "22af846d-5558-48bc-b881-50ceee348c9f",
   "metadata": {},
   "outputs": [],
   "source": [
    "# Advanced Financial Data Gathering "
   ]
  },
  {
   "cell_type": "code",
   "execution_count": null,
   "id": "27c8a101-9203-4ebf-b3ee-b7504a3cff1e",
   "metadata": {},
   "outputs": [],
   "source": [
    "#Major Financial Indexes from the Yfinance Url, use [0] to only runt he first table \n",
    "\n",
    "major_indexes = pd.read_html(\"https://finance.yahoo.com/world-indices\")[0]\n",
    "major_indexes"
   ]
  },
  {
   "cell_type": "code",
   "execution_count": null,
   "id": "37d66ee7-a524-4bd7-ae58-8c068d9efc52",
   "metadata": {},
   "outputs": [],
   "source": [
    "#Call only the symbols of all major indexes\n",
    "\n",
    "major_indexes['Symbol']"
   ]
  },
  {
   "cell_type": "code",
   "execution_count": null,
   "id": "84cdc9c5-e137-4474-8a2d-58a5ae5ff131",
   "metadata": {},
   "outputs": [],
   "source": [
    "#Remove the ^ from all the symbols \n",
    "\n",
    "major_indexes['Symbol'].str.replace(\"^\",\"\")"
   ]
  },
  {
   "cell_type": "code",
   "execution_count": null,
   "id": "4af22d7a-3e41-4bf6-af0c-85d374ced85b",
   "metadata": {},
   "outputs": [],
   "source": [
    "# You can change the dataset to all lowercase by using .str.lower \n",
    "\n",
    "major_indexes['Symbol'].str.replace(\"^\",\"\").str.lower()"
   ]
  },
  {
   "cell_type": "code",
   "execution_count": null,
   "id": "27bb87b0-9e8a-413a-81da-1b346b242f2d",
   "metadata": {},
   "outputs": [],
   "source": [
    "# You can change the data set into a list by providing the .to_list() function \n",
    "\n",
    "index_list = major_indexes['Symbol'].str.replace(\"^\",\"\").str.lower().to_list()\n",
    "index_list"
   ]
  },
  {
   "cell_type": "code",
   "execution_count": null,
   "id": "5bcf2c53-c9c1-454c-9328-cb2e002e0f38",
   "metadata": {},
   "outputs": [],
   "source": [
    "#Create a variable to store the index information, pull the data on a daily time frame and define your start and end date\n",
    "\n",
    "df = yf.download(index_list, period='1d', start=\"2020-01-01\", end=\"2021-06-19\")\n",
    "df"
   ]
  },
  {
   "cell_type": "code",
   "execution_count": null,
   "id": "582a22a4-fa54-4cd4-98f2-96244a6b61aa",
   "metadata": {},
   "outputs": [],
   "source": [
    "#Count how many tickers we have \n",
    "\n",
    "len(index_list)"
   ]
  },
  {
   "cell_type": "code",
   "execution_count": null,
   "id": "e4d2578b-07eb-4f1c-94c3-a1bd9d034037",
   "metadata": {},
   "outputs": [],
   "source": [
    "# Display Columns \n",
    "\n",
    "df.columns"
   ]
  },
  {
   "cell_type": "code",
   "execution_count": null,
   "id": "ffbb116f-1336-4c82-b40a-1424d8e243af",
   "metadata": {},
   "outputs": [],
   "source": [
    "# Clean the null values from the dataset \n",
    "\n",
    "adj_close = adj_close.dropna(thresh=10, axis=1)['Adj Close'].drop"
   ]
  },
  {
   "cell_type": "code",
   "execution_count": null,
   "id": "993749be-91a2-479d-9ff1-59d73a365051",
   "metadata": {},
   "outputs": [],
   "source": [
    "adj_close"
   ]
  },
  {
   "cell_type": "code",
   "execution_count": null,
   "id": "ef0ead25-5249-458d-8be2-d8d4f5f20dcf",
   "metadata": {},
   "outputs": [],
   "source": [
    "adj_close.describe().T"
   ]
  },
  {
   "cell_type": "code",
   "execution_count": null,
   "id": "ba2895cc-62c1-40f3-a47c-327f7da3e3ac",
   "metadata": {},
   "outputs": [],
   "source": [
    "#Plot the adjusted close for all the major indexes \n",
    "\n",
    "df['Adj Close'].plot()"
   ]
  },
  {
   "cell_type": "code",
   "execution_count": null,
   "id": "922b8f82-3793-41e0-9a18-24cadd98c7ff",
   "metadata": {},
   "outputs": [],
   "source": [
    "# Plot the adjusted close for all the major indexes on different grids using subplots\n",
    "\n",
    "df['Adj Close'].plot(subplots=True)"
   ]
  },
  {
   "cell_type": "code",
   "execution_count": null,
   "id": "ce10b680-d6ee-4229-96cc-56f564557054",
   "metadata": {},
   "outputs": [],
   "source": [
    "# Drop one given ticker from the dataset and store it in a variable \n",
    "\n",
    "df = df.drop(\"VIX\", axis=1)"
   ]
  },
  {
   "cell_type": "code",
   "execution_count": null,
   "id": "54f4719d-2636-4241-ac18-fde9045e4164",
   "metadata": {},
   "outputs": [],
   "source": [
    "#Define DJI as a variable \n",
    "dji = index_list['DJI']"
   ]
  },
  {
   "cell_type": "code",
   "execution_count": null,
   "id": "9f731c92-99e9-4fa9-8d56-4958b8c85f4f",
   "metadata": {},
   "outputs": [],
   "source": [
    "#Find the mean on a 4 month basis \n",
    "\n",
    "dji.resample('4M').mean()"
   ]
  },
  {
   "cell_type": "code",
   "execution_count": null,
   "id": "8ede2dfe-4602-41dd-bed4-baea34fc348f",
   "metadata": {},
   "outputs": [],
   "source": []
  }
 ],
 "metadata": {
  "kernelspec": {
   "display_name": "Python 3",
   "language": "python",
   "name": "python3"
  },
  "language_info": {
   "codemirror_mode": {
    "name": "ipython",
    "version": 3
   },
   "file_extension": ".py",
   "mimetype": "text/x-python",
   "name": "python",
   "nbconvert_exporter": "python",
   "pygments_lexer": "ipython3",
   "version": "3.7.10"
  }
 },
 "nbformat": 4,
 "nbformat_minor": 5
}
